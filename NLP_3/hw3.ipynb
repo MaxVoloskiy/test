{
 "cells": [
  {
   "cell_type": "markdown",
   "metadata": {},
   "source": [
    "# Домашнее задание 3\n",
    "\n",
    "## Сбор данных из интернета и генерация текстов\n",
    "\n",
    "В этом домашнем задании вам предстоит: \n",
    "1. выбрать свой источник структурированных данных (прогноз погоды, курс акций, счет спортивных мероприятий, или что-нибудь еще) \n",
    "2. научиться извлекать данные из с выбранной веб-страницы\n",
    "3. научиться генерировать текст по шаблонам"
   ]
  },
  {
   "cell_type": "markdown",
   "metadata": {},
   "source": [
    "## Часть 1\n",
    "\n",
    "Выберете источник данных, который вам симпатичен. По умолчанию, предлагаем использовать данные о погоде в Москве: \n",
    "https://www.gismeteo.ru/weather-moscow-4368/. Извлеките из html-кода страницы температуру сегодня, уровень осадков и скорость ветра."
   ]
  },
  {
   "cell_type": "code",
   "execution_count": 1,
   "metadata": {
    "collapsed": true
   },
   "outputs": [],
   "source": [
    "import urllib\n",
    "from scrapy.selector import Selector\n",
    "import re\n",
    "from scrapy.selector import Selector\n",
    "from scrapy.http import HtmlResponse"
   ]
  },
  {
   "cell_type": "code",
   "execution_count": 2,
   "metadata": {
    "collapsed": true
   },
   "outputs": [],
   "source": [
    "url = 'https://www.gismeteo.ru/weather-moscow-4368/'\n",
    "req = urllib.request.Request(url, headers={'User-Agent': \"Magic Browser\"})\n",
    "reg_html = re.compile('<[^>]+>')\n",
    "html = urllib.request.urlopen(url)\n",
    "html = html.read()"
   ]
  },
  {
   "cell_type": "code",
   "execution_count": 3,
   "metadata": {
    "collapsed": true
   },
   "outputs": [],
   "source": [
    "html = urllib.request.urlopen(url)\n",
    "html = html.read()"
   ]
  },
  {
   "cell_type": "code",
   "execution_count": 4,
   "metadata": {
    "collapsed": true
   },
   "outputs": [],
   "source": [
    "#общий путь\n",
    "xpath = '/html/body/section/div/div/div[1]/div[3]/'\n",
    "#ветер\n",
    "wind_xpath = xpath + 'div[1]/div[2]/div/div[1]/div/div[5]/'\n",
    "#температура\n",
    "temp_xpath = xpath + 'div[1]/div[1]/div/div/div[1]/div[3]/div/div/div/'\n",
    "#уровень осадков\n",
    "precipitation_xpath  = xpath + 'div[1]/div[2]/div/div[1]/div/div[7]/'"
   ]
  },
  {
   "cell_type": "code",
   "execution_count": 5,
   "metadata": {
    "collapsed": true
   },
   "outputs": [],
   "source": [
    "#Посчитаем сумму осадков сегодня\n",
    "def get_precipitation(html=html, reg_html=reg_html, date='today'):\n",
    "    precipitation_list = []\n",
    "    precipitation = 0\n",
    "    \n",
    "    if date == 'tomorrow':\n",
    "        url = 'https://www.gismeteo.ru/weather-moscow-4368/tomorrow/'\n",
    "        html = urllib.request.urlopen(url)\n",
    "        html = html.read()\n",
    "        \n",
    "    for k in range(1, 9):\n",
    "        precipitation_text = Selector(text=html).xpath(precipitation_xpath + 'div' + '[' + str(k) + ']' + '/div').extract()\n",
    "        try:\n",
    "            precipitation_text = re.sub(reg_html, '', precipitation_text[0]).strip()\n",
    "            precipitation_text = re.sub(',', '.', precipitation_text)\n",
    "            precipitation += float(precipitation_text)\n",
    "        except:\n",
    "            pass\n",
    "        \n",
    "        precipitation_list.append(precipitation_text)\n",
    "    return round(precipitation, 2), precipitation_list"
   ]
  },
  {
   "cell_type": "code",
   "execution_count": 6,
   "metadata": {},
   "outputs": [],
   "source": [
    "#Посчитаем сумму осадков сегодня\n",
    "def get_wind(html=html, reg_html=reg_html, date='today'):\n",
    "    \n",
    "    wind_list = []\n",
    "    wind = 0\n",
    "    \n",
    "    if date == 'tomorrow':\n",
    "        url = 'https://www.gismeteo.ru/weather-moscow-4368/tomorrow/'\n",
    "        html = urllib.request.urlopen(url)\n",
    "        html = html.read()\n",
    "        \n",
    "    for k in range(1, 9):\n",
    "        wind_text = Selector(text=html).xpath(wind_xpath + 'div' + '[' + str(k) + ']' + '/div').extract()\n",
    "        try:\n",
    "            wind_text = re.sub(reg_html, '', wind_text[0]).strip()\n",
    "        except:\n",
    "            pass\n",
    "        wind_list.append(wind_text)\n",
    "        \n",
    "    summ = 0\n",
    "    for wind in wind_list:\n",
    "        list_wind = wind.split('-')\n",
    "        if len(list_wind) == 1:\n",
    "            avg_day = int(list_wind[0])\n",
    "        else:\n",
    "            avg_day = (int(list_wind[0]) + int(list_wind[1])) / 2\n",
    "        summ += avg_day\n",
    "    avg_wind = int(summ / 8) \n",
    "    \n",
    "    return avg_wind, wind_list"
   ]
  },
  {
   "cell_type": "code",
   "execution_count": 7,
   "metadata": {
    "collapsed": true
   },
   "outputs": [],
   "source": [
    "def get_temperature(html=html, reg_html=reg_html, date='today'):\n",
    "    \n",
    "    if date == 'tomorrow':\n",
    "        url = 'https://www.gismeteo.ru/weather-moscow-4368/tomorrow/'\n",
    "        html = urllib.request.urlopen(url)\n",
    "        html = html.read()\n",
    "    \n",
    "    \n",
    "    temp_text = Selector(text=html).xpath(temp_xpath + 'div' + '[' + str(2) + ']').extract()\n",
    "    temp_text = re.sub(reg_html, '', temp_text[0]).strip()\n",
    "    if temp_text[0] == '+':\n",
    "        return int(temp_text[1])\n",
    "    else:\n",
    "        return int('-' + temp_text[1])\n",
    "#     temp_list = []\n",
    "#     for k in range(1, 3):\n",
    "#         temp_text = Selector(text=html).xpath(temp_xpath + 'div' + '[' + str(k) + ']').extract()\n",
    "#         try:\n",
    "#             temp_text = re.sub(reg_html, '', temp_text[0]).strip()\n",
    "#         except:\n",
    "#             pass\n",
    "#         temp_list.append(temp_text)\n",
    "        \n",
    "    return temp_text"
   ]
  },
  {
   "cell_type": "markdown",
   "metadata": {},
   "source": [
    "## Часть 2\n",
    "Запрограммируйте шаблон, описывающие температуру, уровень осадков и скорость ветра сегодня. Например,\n",
    "\"Температура сегодня составляет X градусов\", где Х – излеченное выше число. Сгенерируйте таким образом описание погоды сегодня. Учтите, величина X влияет на грамматическое число, использованное в единицах измерения (\"двадцать градусов\", но \"двадцать один градус\"). Используйте бибилиотеку utg или дополнительные функции pymorphy2"
   ]
  },
  {
   "cell_type": "code",
   "execution_count": 8,
   "metadata": {},
   "outputs": [],
   "source": [
    "import pymorphy2\n",
    "\n",
    "morph = pymorphy2.MorphAnalyzer()\n",
    "\n",
    "def generate_forms(word):\n",
    "    p = morph.parse(word)[0]\n",
    "    res = []\n",
    "    lexems = p.lexeme\n",
    "    if 'NOUN' in p.tag:\n",
    "        for i in range(len(lexems)):\n",
    "            res.append(lexems[i][4][0][1])\n",
    "        #print(res)\n",
    "        if 'femn' in p.tag:\n",
    "            res1 = res[:5]\n",
    "            res1.append(res[6])\n",
    "            res1.extend(res[7:])\n",
    "            res1.extend(res1[6:])\n",
    "            return(res1)\n",
    "        else:\n",
    "            res.extend(res[6:])\n",
    "            return(res)\n",
    "    if 'VERB' in p.tag or 'INFN' in p.tag:\n",
    "        for i in [0,1,3,2,4]:\n",
    "            res.append(lexems[i][4][0][1])\n",
    "        return(res)\n",
    "    if 'ADJF' in p.tag:\n",
    "        for i in range(18):\n",
    "            res.append(lexems[i][4][0][1])\n",
    "        return(res)"
   ]
  },
  {
   "cell_type": "code",
   "execution_count": 9,
   "metadata": {
    "collapsed": true
   },
   "outputs": [],
   "source": [
    "from utg import relations as r\n",
    "from utg import logic\n",
    "from utg import data\n",
    "from utg import dictionary\n",
    "from utg import words\n",
    "from utg import templates\n",
    "from utg import constructors"
   ]
  },
  {
   "cell_type": "code",
   "execution_count": 10,
   "metadata": {},
   "outputs": [],
   "source": [
    "def get_template_temp(temp):\n",
    "    \n",
    "    gradus_forms = generate_forms('градус')\n",
    "    # описываем существительное для словаря\n",
    "    word = words.Word(type=r.WORD_TYPE.NOUN,\n",
    "                            forms=gradus_forms, \n",
    "                            properties=words.Properties(r.ANIMALITY.INANIMATE, r.GENDER.MASCULINE)) \n",
    "\n",
    "    # создаём словарь для использования в шаблонах\n",
    "    test_dictionary = dictionary.Dictionary(words=[word])\n",
    "\n",
    "    # создаём шаблон\n",
    "    template = templates.Template()\n",
    "\n",
    "    if temp > 0:\n",
    "    # externals — внешние переменные, не обязаны быть в словаре\n",
    "        template.parse('В Москве сегодня [gradus] [градус|gradus] выше ноля.', externals=('gradus'))\n",
    "    elif temp == 0:\n",
    "        template.parse('В Москве сегодня [gradus] [градус|gradus].', externals=('gradus'))\n",
    "    else:\n",
    "        temp = abs(temp)\n",
    "        template.parse('В Москве сегодня [gradus] [градус|gradus] ниже ноля.', externals=('gradus'))\n",
    "    # осуществляем подстановку\n",
    "    result = template.substitute(externals={'gradus': constructors.construct_integer(temp)},\n",
    "                                 dictionary=test_dictionary)\n",
    "\n",
    "    return result"
   ]
  },
  {
   "cell_type": "code",
   "execution_count": 11,
   "metadata": {
    "collapsed": true
   },
   "outputs": [],
   "source": [
    "def get_template_wind(avg_wind):\n",
    "    \n",
    "    wind_forms = generate_forms('метр')[:18]\n",
    "    # описываем существительное для словаря\n",
    "    word = words.Word(type=r.WORD_TYPE.NOUN,\n",
    "                            forms=wind_forms, \n",
    "                            properties=words.Properties(r.ANIMALITY.INANIMATE, r.GENDER.MASCULINE)) \n",
    "\n",
    "    # создаём словарь для использования в шаблонах\n",
    "    test_dictionary = dictionary.Dictionary(words=[word])\n",
    "\n",
    "    # создаём шаблон\n",
    "    template = templates.Template()\n",
    "\n",
    "    if avg_wind < 7:\n",
    "    # externals — внешние переменные, не обязаны быть в словаре\n",
    "        template.parse('Ожидается слабый ветер, средняя скорость [avg_wind] [метр|avg_wind] в секунду.', externals=('avg_wind'))\n",
    "    elif avg_wind == 0:\n",
    "        template.parse('Погода безветренная.', externals=('avg_wind'))\n",
    "    else:\n",
    "        template.parse('Ожидается сильный ветер, средняя скорость [avg_wind] [метр|avg_wind] в секунду.', externals=('avg_wind'))\n",
    "    # осуществляем подстановку\n",
    "    result = template.substitute(externals={'avg_wind': constructors.construct_integer(avg_wind)},\n",
    "                                 dictionary=test_dictionary)\n",
    "\n",
    "    return result"
   ]
  },
  {
   "cell_type": "code",
   "execution_count": 12,
   "metadata": {},
   "outputs": [],
   "source": [
    "def get_template_precipitation(precipitation):\n",
    "    if precipitation == 0:\n",
    "        return 'Осадков не ожидается.'\n",
    "    elif precipitation < 2.0:\n",
    "        return 'Ожидается небольшое количество осадков - ' + str(precipitation) + ' мм.'\n",
    "    else:\n",
    "        return 'Ожидается большое количество осадков - ' + str(precipitation) + ' мм.'"
   ]
  },
  {
   "cell_type": "code",
   "execution_count": 15,
   "metadata": {},
   "outputs": [],
   "source": [
    "def main():\n",
    "    temp = get_temperature()\n",
    "    wind = get_wind()[0]\n",
    "    precipitation = get_precipitation()[0]\n",
    "    temp1 = get_template_temp(temp)\n",
    "    temp2 = get_template_wind(wind)\n",
    "    temp3 = get_template_precipitation(precipitation)\n",
    "    \n",
    "    print (temp1 + \" \" + temp2 + \" \" + temp3)"
   ]
  },
  {
   "cell_type": "code",
   "execution_count": 16,
   "metadata": {},
   "outputs": [
    {
     "name": "stdout",
     "output_type": "stream",
     "text": [
      "В Москве сегодня 2 градуса выше ноля. Ожидается слабый ветер, средняя скорость 1 метр в секунду. Ожидается небольшое количество осадков - 0.2 мм.\n"
     ]
    }
   ],
   "source": [
    "main()"
   ]
  },
  {
   "cell_type": "markdown",
   "metadata": {
    "collapsed": true
   },
   "source": [
    "### Часть 3 (необязательная)\n",
    "\n",
    "Соберите данные не только за сегодняшний, но и за вчерашний день, и напишите шаблоны, которые сравнивают вчерашние и сегодняшние показатели. Например, «сегодня похолодало на Х градусов по сравнению со вчера».\n"
   ]
  },
  {
   "cell_type": "code",
   "execution_count": 17,
   "metadata": {
    "collapsed": true
   },
   "outputs": [],
   "source": [
    "def get_template_tommorow_temp(temp_today, temp_tomorrow):\n",
    "    \n",
    "    gradus_forms = generate_forms('градус')\n",
    "    # описываем существительное для словаря\n",
    "    word = words.Word(type=r.WORD_TYPE.NOUN,\n",
    "                            forms=gradus_forms, \n",
    "                            properties=words.Properties(r.ANIMALITY.INANIMATE, r.GENDER.MASCULINE)) \n",
    "\n",
    "    # создаём словарь для использования в шаблонах\n",
    "    test_dictionary = dictionary.Dictionary(words=[word])\n",
    "\n",
    "    # создаём шаблон\n",
    "    template = templates.Template()\n",
    "    \n",
    "    diff_temp = temp_tomorrow - temp_today\n",
    "    \n",
    "    if diff_temp > 0:\n",
    "    # externals — внешние переменные, не обязаны быть в словаре\n",
    "        template.parse('В Москве завтра потеплеет на [gradus] [градус|gradus].', externals=('gradus'))\n",
    "    elif diff_temp == 0:\n",
    "        template.parse('В Москве завтра сохранится такая же температура.', externals=('gradus'))\n",
    "    else:\n",
    "        template.parse('В Москве завтра похолодает на [gradus] [градус|gradus].', externals=('gradus'))\n",
    "    # осуществляем подстановку\n",
    "    result = template.substitute(externals={'gradus': constructors.construct_integer(diff_temp)},\n",
    "                                 dictionary=test_dictionary)\n",
    "\n",
    "    return result"
   ]
  },
  {
   "cell_type": "code",
   "execution_count": 18,
   "metadata": {},
   "outputs": [],
   "source": [
    "def get_template_tommorow_wind(avg_wind_today, avg_wind_tomorrow):\n",
    "    \n",
    "    wind_forms = generate_forms('метр')[:18]\n",
    "    # описываем существительное для словаря\n",
    "    word = words.Word(type=r.WORD_TYPE.NOUN,\n",
    "                            forms=wind_forms, \n",
    "                            properties=words.Properties(r.ANIMALITY.INANIMATE, r.GENDER.MASCULINE)) \n",
    "\n",
    "    # создаём словарь для использования в шаблонах\n",
    "    test_dictionary = dictionary.Dictionary(words=[word])\n",
    "\n",
    "    diff_wind = avg_wind_tomorrow - avg_wind_today\n",
    "    # создаём шаблон\n",
    "    template = templates.Template()\n",
    "\n",
    "    if diff_wind > 0:\n",
    "    # externals — внешние переменные, не обязаны быть в словаре\n",
    "        template.parse('Завтра ожидается увеличение скорости ветра на [avg_wind] [метр|avg_wind] в секунду.', externals=('avg_wind'))\n",
    "    elif diff_wind == 0:\n",
    "        template.parse('Завтра скорость ветра сохранится на прежнем уровне.', externals=('avg_wind'))\n",
    "    else:\n",
    "        template.parse('Завтра ожидается уменьшение скорости ветра на [avg_wind] [метр|avg_wind] в секунду.', externals=('avg_wind'))\n",
    "        diff_wind = abs(diff_wind)\n",
    "    # осуществляем подстановку\n",
    "    result = template.substitute(externals={'avg_wind': constructors.construct_integer(diff_wind)},\n",
    "                                 dictionary=test_dictionary)\n",
    "\n",
    "    return result"
   ]
  },
  {
   "cell_type": "code",
   "execution_count": 19,
   "metadata": {
    "collapsed": true
   },
   "outputs": [],
   "source": [
    "def get_template_tomorrow_precipitation(precipitation_today, precipitation_tomorrow):\n",
    "    \n",
    "    diff_precipitation = round(precipitation_tomorrow - precipitation_today, 2)\n",
    "    \n",
    "    if diff_precipitation == 0:\n",
    "        return 'Количество осадков завтра не увеличится.'\n",
    "    elif diff_precipitation > 0:\n",
    "        return 'Количество осадков завтра увеличится на ' + str(diff_precipitation) + ' мм.'\n",
    "    else:\n",
    "        return 'Количество осадков завтра уменьшится на ' + str(diff_precipitation) + ' мм.'"
   ]
  },
  {
   "cell_type": "code",
   "execution_count": 20,
   "metadata": {
    "collapsed": true
   },
   "outputs": [],
   "source": [
    "def main_2():\n",
    "    temp = get_temperature()\n",
    "    wind = get_wind()[0]\n",
    "    precipitation = get_precipitation()[0]\n",
    "    \n",
    "    temp_tomorrow = get_temperature(date='tomorrow')\n",
    "    wind_tomorrow = get_wind(date='tomorrow')[0]\n",
    "    precipitation_tomorrow = get_precipitation(date='tomorrow')[0]\n",
    "    \n",
    "    temp1 = get_template_tommorow_temp(temp, temp_tomorrow)\n",
    "    temp2 = get_template_tommorow_wind(wind, wind_tomorrow)\n",
    "    temp3 = get_template_tomorrow_precipitation(precipitation, precipitation_tomorrow)\n",
    "    \n",
    "    print (temp1 + \" \" + temp2 + \" \" + temp3)    "
   ]
  },
  {
   "cell_type": "code",
   "execution_count": 21,
   "metadata": {},
   "outputs": [
    {
     "name": "stdout",
     "output_type": "stream",
     "text": [
      "В Москве завтра потеплеет на 2 градуса. Завтра ожидается увеличение скорости ветра на 6 м в секунду. Количество осадков завтра увеличится на 0.5 мм.\n"
     ]
    }
   ],
   "source": [
    "main_2()"
   ]
  },
  {
   "cell_type": "code",
   "execution_count": null,
   "metadata": {
    "collapsed": true
   },
   "outputs": [],
   "source": []
  }
 ],
 "metadata": {
  "kernelspec": {
   "display_name": "Python 3",
   "language": "python",
   "name": "python3"
  },
  "language_info": {
   "codemirror_mode": {
    "name": "ipython",
    "version": 3
   },
   "file_extension": ".py",
   "mimetype": "text/x-python",
   "name": "python",
   "nbconvert_exporter": "python",
   "pygments_lexer": "ipython3",
   "version": "3.6.2"
  }
 },
 "nbformat": 4,
 "nbformat_minor": 2
}
