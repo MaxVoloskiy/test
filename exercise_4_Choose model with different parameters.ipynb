{
 "cells": [
  {
   "cell_type": "code",
   "execution_count": 1,
   "metadata": {
    "collapsed": true
   },
   "outputs": [],
   "source": [
    "import pandas as pd\n",
    "import numpy as np"
   ]
  },
  {
   "cell_type": "code",
   "execution_count": 2,
   "metadata": {
    "collapsed": true
   },
   "outputs": [],
   "source": [
    "from sklearn import datasets"
   ]
  },
  {
   "cell_type": "code",
   "execution_count": 3,
   "metadata": {
    "collapsed": true
   },
   "outputs": [],
   "source": [
    "data = datasets.load_digits()"
   ]
  },
  {
   "cell_type": "code",
   "execution_count": 4,
   "metadata": {
    "collapsed": true
   },
   "outputs": [],
   "source": [
    "X = data.data"
   ]
  },
  {
   "cell_type": "code",
   "execution_count": 5,
   "metadata": {},
   "outputs": [
    {
     "data": {
      "text/plain": [
       "array([[  0.,   0.,   5.,  13.,   9.,   1.,   0.,   0.,   0.,   0.,  13.,\n",
       "         15.,  10.,  15.,   5.,   0.,   0.,   3.,  15.,   2.,   0.,  11.,\n",
       "          8.,   0.,   0.,   4.,  12.,   0.,   0.,   8.,   8.,   0.,   0.,\n",
       "          5.,   8.,   0.,   0.,   9.,   8.,   0.,   0.,   4.,  11.,   0.,\n",
       "          1.,  12.,   7.,   0.,   0.,   2.,  14.,   5.,  10.,  12.,   0.,\n",
       "          0.,   0.,   0.,   6.,  13.,  10.,   0.,   0.,   0.]])"
      ]
     },
     "execution_count": 5,
     "metadata": {},
     "output_type": "execute_result"
    }
   ],
   "source": [
    "X[ :1, :]"
   ]
  },
  {
   "cell_type": "code",
   "execution_count": 12,
   "metadata": {},
   "outputs": [
    {
     "data": {
      "text/plain": [
       "array([0, 1, 2, 3, 4])"
      ]
     },
     "execution_count": 12,
     "metadata": {},
     "output_type": "execute_result"
    }
   ],
   "source": [
    "y = data.target\n",
    "y[:5]"
   ]
  },
  {
   "cell_type": "markdown",
   "metadata": {},
   "source": [
    "### Начнем с логистической регрессии LogisticRegression"
   ]
  },
  {
   "cell_type": "code",
   "execution_count": 13,
   "metadata": {},
   "outputs": [],
   "source": [
    "from sklearn.linear_model import LogisticRegression\n",
    "from sklearn.model_selection import cross_val_score\n",
    "from sklearn.cross_validation import StratifiedShuffleSplit"
   ]
  },
  {
   "cell_type": "code",
   "execution_count": 14,
   "metadata": {
    "collapsed": true
   },
   "outputs": [],
   "source": [
    "sss = StratifiedShuffleSplit(y)"
   ]
  },
  {
   "cell_type": "code",
   "execution_count": 75,
   "metadata": {
    "collapsed": true
   },
   "outputs": [],
   "source": [
    "#Создадим лист куда будем записывать модель и полученную точность\n",
    "models_accuracy = {}"
   ]
  },
  {
   "cell_type": "code",
   "execution_count": 27,
   "metadata": {},
   "outputs": [],
   "source": [
    "accuracies = []\n",
    "lr = LogisticRegression(multi_class='multinomial',  penalty='l2', solver='lbfgs')\n",
    "C_s = np.linspace(0.1, 2, 10)\n",
    "for C in C_s:\n",
    "    lr.C = C\n",
    "    accuracies.append(np.mean(cross_val_score(lr, X, y, cv=sss, scoring='accuracy')))"
   ]
  },
  {
   "cell_type": "code",
   "execution_count": 47,
   "metadata": {},
   "outputs": [
    {
     "name": "stdout",
     "output_type": "stream",
     "text": [
      "Значение С = 0.1, точность = 0.969\n",
      "Значение С = 0.31, точность = 0.965\n",
      "Значение С = 0.52, точность = 0.967\n",
      "Значение С = 0.73, точность = 0.972\n",
      "Значение С = 0.94, точность = 0.97\n",
      "Значение С = 1.16, точность = 0.96\n",
      "Значение С = 1.37, точность = 0.963\n",
      "Значение С = 1.58, точность = 0.967\n",
      "Значение С = 1.79, точность = 0.962\n",
      "Значение С = 2.0, точность = 0.966\n"
     ]
    }
   ],
   "source": [
    "for C, accuracy in zip(C_s, accuracies):\n",
    "    print(\"Значение С = {}, точность = {}\".format(round(C,2), round(accuracy, 3)))"
   ]
  },
  {
   "cell_type": "code",
   "execution_count": 58,
   "metadata": {},
   "outputs": [],
   "source": [
    "lr.C = C_s[accuracies.index(max(accuracies))]"
   ]
  },
  {
   "cell_type": "code",
   "execution_count": 76,
   "metadata": {
    "collapsed": true
   },
   "outputs": [],
   "source": [
    "models_accuracy[lr] = max(accuracies)"
   ]
  },
  {
   "cell_type": "markdown",
   "metadata": {},
   "source": [
    "Запишем нашу первую полученную модель и ее точность."
   ]
  },
  {
   "cell_type": "code",
   "execution_count": 77,
   "metadata": {},
   "outputs": [
    {
     "data": {
      "text/plain": [
       "{LogisticRegression(C=0.73333333333333328, class_weight=None, dual=False,\n",
       "           fit_intercept=True, intercept_scaling=1, max_iter=100,\n",
       "           multi_class='multinomial', n_jobs=1, penalty='l2',\n",
       "           random_state=None, solver='lbfgs', tol=0.0001, verbose=0,\n",
       "           warm_start=False): 0.97166666666666668}"
      ]
     },
     "execution_count": 77,
     "metadata": {},
     "output_type": "execute_result"
    }
   ],
   "source": [
    "models_accuracy"
   ]
  },
  {
   "cell_type": "markdown",
   "metadata": {},
   "source": [
    "### Переходим к рассмотрению решающего дерева DecisionTreeClassifier (код с занятия)."
   ]
  },
  {
   "cell_type": "code",
   "execution_count": 62,
   "metadata": {
    "collapsed": true
   },
   "outputs": [],
   "source": [
    "from sklearn.tree import DecisionTreeClassifier"
   ]
  },
  {
   "cell_type": "code",
   "execution_count": 68,
   "metadata": {
    "collapsed": true
   },
   "outputs": [],
   "source": [
    "means = []\n",
    "depths = list(range(2, 20))\n",
    "for depth in depths:\n",
    "    clf = DecisionTreeClassifier(max_depth=depth)\n",
    "    means.append(cross_val_score(estimator=clf, X=X, y=y, scoring='accuracy', cv=sss).mean())"
   ]
  },
  {
   "cell_type": "code",
   "execution_count": 69,
   "metadata": {},
   "outputs": [
    {
     "name": "stdout",
     "output_type": "stream",
     "text": [
      "Глубина дерева = 2, точность = 0.319\n",
      "Глубина дерева = 3, точность = 0.462\n",
      "Глубина дерева = 4, точность = 0.567\n",
      "Глубина дерева = 5, точность = 0.659\n",
      "Глубина дерева = 6, точность = 0.755\n",
      "Глубина дерева = 7, точность = 0.813\n",
      "Глубина дерева = 8, точность = 0.834\n",
      "Глубина дерева = 9, точность = 0.848\n",
      "Глубина дерева = 10, точность = 0.867\n",
      "Глубина дерева = 11, точность = 0.864\n",
      "Глубина дерева = 12, точность = 0.861\n",
      "Глубина дерева = 13, точность = 0.861\n",
      "Глубина дерева = 14, точность = 0.852\n",
      "Глубина дерева = 15, точность = 0.868\n",
      "Глубина дерева = 16, точность = 0.867\n",
      "Глубина дерева = 17, точность = 0.862\n",
      "Глубина дерева = 18, точность = 0.859\n",
      "Глубина дерева = 19, точность = 0.861\n"
     ]
    }
   ],
   "source": [
    "for depth, mean in zip(depths, means):\n",
    "    print(\"Глубина дерева = {}, точность = {}\".format(round(depth,2), round(mean, 3)))"
   ]
  },
  {
   "cell_type": "markdown",
   "metadata": {},
   "source": [
    "Наилучшие результаты показали деревья глубиной от 9 до 19. Самую большую точность имеет дерево глубиной - 12."
   ]
  },
  {
   "cell_type": "code",
   "execution_count": 70,
   "metadata": {
    "collapsed": true
   },
   "outputs": [],
   "source": [
    "clf.max_depth = depths[means.index(max(means))]"
   ]
  },
  {
   "cell_type": "code",
   "execution_count": 78,
   "metadata": {
    "collapsed": true
   },
   "outputs": [],
   "source": [
    "models_accyracy[clf] = max(means)"
   ]
  },
  {
   "cell_type": "code",
   "execution_count": 79,
   "metadata": {},
   "outputs": [
    {
     "data": {
      "text/plain": [
       "{LogisticRegression(C=0.73333333333333328, class_weight=None, dual=False,\n",
       "           fit_intercept=True, intercept_scaling=1, max_iter=100,\n",
       "           multi_class='multinomial', n_jobs=1, penalty='l2',\n",
       "           random_state=None, solver='lbfgs', tol=0.0001, verbose=0,\n",
       "           warm_start=False): 0.97166666666666668,\n",
       " DecisionTreeClassifier(class_weight=None, criterion='gini', max_depth=15,\n",
       "             max_features=None, max_leaf_nodes=None,\n",
       "             min_impurity_decrease=0.0, min_impurity_split=None,\n",
       "             min_samples_leaf=1, min_samples_split=2,\n",
       "             min_weight_fraction_leaf=0.0, presort=False, random_state=None,\n",
       "             splitter='best'): 0.86777777777777787}"
      ]
     },
     "execution_count": 79,
     "metadata": {},
     "output_type": "execute_result"
    }
   ],
   "source": [
    "models_accyracy"
   ]
  },
  {
   "cell_type": "markdown",
   "metadata": {},
   "source": [
    "## Рассмотрим следующий алгоритм SVM.\n",
    "Рассмотрим различные параметры C. Параметр С позволяет находить компромисс между максимизацией разделяющей полосы и минимизацией суммарной ошибки."
   ]
  },
  {
   "cell_type": "code",
   "execution_count": 80,
   "metadata": {
    "collapsed": true
   },
   "outputs": [],
   "source": [
    "from sklearn import svm"
   ]
  },
  {
   "cell_type": "code",
   "execution_count": 93,
   "metadata": {
    "collapsed": true
   },
   "outputs": [],
   "source": [
    "svc = svm.SVC(kernel='linear')"
   ]
  },
  {
   "cell_type": "code",
   "execution_count": 105,
   "metadata": {
    "collapsed": true
   },
   "outputs": [],
   "source": [
    "C_s = np.logspace(-10, 0, 25)"
   ]
  },
  {
   "cell_type": "code",
   "execution_count": 106,
   "metadata": {},
   "outputs": [],
   "source": [
    "import matplotlib.pyplot as plt"
   ]
  },
  {
   "cell_type": "code",
   "execution_count": 108,
   "metadata": {
    "collapsed": true
   },
   "outputs": [],
   "source": [
    "means = []\n",
    "for C in C_s:\n",
    "    svc.C = C\n",
    "    means.append(np.mean(cross_val_score(svc, X, y, scoring='accuracy', cv=sss)))"
   ]
  },
  {
   "cell_type": "code",
   "execution_count": 111,
   "metadata": {},
   "outputs": [
    {
     "name": "stdout",
     "output_type": "stream",
     "text": [
      "Параметр штрафа С = 0.0, точность = 0.1\n",
      "Параметр штрафа С = 0.0, точность = 0.1\n",
      "Параметр штрафа С = 0.0, точность = 0.1\n",
      "Параметр штрафа С = 0.0, точность = 0.1\n",
      "Параметр штрафа С = 0.0, точность = 0.1\n",
      "Параметр штрафа С = 0.0, точность = 0.1\n",
      "Параметр штрафа С = 0.0, точность = 0.1\n",
      "Параметр штрафа С = 0.0, точность = 0.1\n",
      "Параметр штрафа С = 0.0, точность = 0.1\n",
      "Параметр штрафа С = 0.0, точность = 0.1\n",
      "Параметр штрафа С = 0.0, точность = 0.1\n",
      "Параметр штрафа С = 0.0, точность = 0.208\n",
      "Параметр штрафа С = 0.0, точность = 0.802\n",
      "Параметр штрафа С = 0.0, точность = 0.931\n",
      "Параметр штрафа С = 0.0, точность = 0.952\n",
      "Параметр штрафа С = 0.0, точность = 0.966\n",
      "Параметр штрафа С = 0.0, точность = 0.975\n",
      "Параметр штрафа С = 0.0, точность = 0.983\n",
      "Параметр штрафа С = 0.0, точность = 0.981\n",
      "Параметр штрафа С = 0.01, точность = 0.978\n",
      "Параметр штрафа С = 0.02, точность = 0.979\n",
      "Параметр штрафа С = 0.06, точность = 0.983\n",
      "Параметр штрафа С = 0.15, точность = 0.981\n",
      "Параметр штрафа С = 0.38, точность = 0.984\n",
      "Параметр штрафа С = 1.0, точность = 0.978\n"
     ]
    }
   ],
   "source": [
    "for c, mean in zip(C_s, means):\n",
    "    print(\"Параметр штрафа С = {}, точность = {}\".format(round(c, 2), round(mean, 3)))"
   ]
  },
  {
   "cell_type": "code",
   "execution_count": 113,
   "metadata": {},
   "outputs": [],
   "source": [
    "svc.C = C_s[means.index(max(means))]"
   ]
  },
  {
   "cell_type": "code",
   "execution_count": 114,
   "metadata": {
    "collapsed": true
   },
   "outputs": [],
   "source": [
    "models_accyracy[svc] = max(means)"
   ]
  },
  {
   "cell_type": "code",
   "execution_count": 115,
   "metadata": {},
   "outputs": [
    {
     "data": {
      "text/plain": [
       "{LogisticRegression(C=0.73333333333333328, class_weight=None, dual=False,\n",
       "           fit_intercept=True, intercept_scaling=1, max_iter=100,\n",
       "           multi_class='multinomial', n_jobs=1, penalty='l2',\n",
       "           random_state=None, solver='lbfgs', tol=0.0001, verbose=0,\n",
       "           warm_start=False): 0.97166666666666668,\n",
       " DecisionTreeClassifier(class_weight=None, criterion='gini', max_depth=15,\n",
       "             max_features=None, max_leaf_nodes=None,\n",
       "             min_impurity_decrease=0.0, min_impurity_split=None,\n",
       "             min_samples_leaf=1, min_samples_split=2,\n",
       "             min_weight_fraction_leaf=0.0, presort=False, random_state=None,\n",
       "             splitter='best'): 0.86777777777777787,\n",
       " SVC(C=0.38311868495572932, cache_size=200, class_weight=None, coef0=0.0,\n",
       "   decision_function_shape='ovr', degree=3, gamma='auto', kernel='linear',\n",
       "   max_iter=-1, probability=False, random_state=None, shrinking=True,\n",
       "   tol=0.001, verbose=False): 0.98388888888888881}"
      ]
     },
     "execution_count": 115,
     "metadata": {},
     "output_type": "execute_result"
    }
   ],
   "source": [
    "models_accyracy"
   ]
  },
  {
   "cell_type": "markdown",
   "metadata": {},
   "source": [
    "### Рассмотрим метод KNN (метод ближайших соседей)."
   ]
  },
  {
   "cell_type": "code",
   "execution_count": 161,
   "metadata": {
    "collapsed": true
   },
   "outputs": [],
   "source": [
    "from sklearn.neighbors import KNeighborsClassifier"
   ]
  },
  {
   "cell_type": "code",
   "execution_count": 162,
   "metadata": {
    "collapsed": true
   },
   "outputs": [],
   "source": [
    "knn = KNeighborsClassifier()\n",
    "weights = ['uniform', 'distance']"
   ]
  },
  {
   "cell_type": "code",
   "execution_count": 163,
   "metadata": {},
   "outputs": [],
   "source": [
    "means_uniform = []\n",
    "#Рассмотрим сначала модель, где от расстояния не зависит вес\n",
    "knn.weights = 'uniform'\n",
    "for n_neighbors in list(range(2, 10)):\n",
    "    knn.n_neighbors = n_neighbors\n",
    "    means_uniform.append(np.mean(cross_val_score(knn, X, y, scoring='accuracy', cv=sss)))"
   ]
  },
  {
   "cell_type": "code",
   "execution_count": 164,
   "metadata": {},
   "outputs": [
    {
     "data": {
      "text/plain": [
       "[0.98888888888888893,\n",
       " 0.98888888888888871,\n",
       " 0.98666666666666669,\n",
       " 0.98777777777777764,\n",
       " 0.98999999999999999,\n",
       " 0.98166666666666669,\n",
       " 0.98722222222222222,\n",
       " 0.98666666666666669]"
      ]
     },
     "execution_count": 164,
     "metadata": {},
     "output_type": "execute_result"
    }
   ],
   "source": [
    "means_uniform"
   ]
  },
  {
   "cell_type": "code",
   "execution_count": 165,
   "metadata": {},
   "outputs": [],
   "source": [
    "means_distance = []\n",
    "#Рассмотрим сначала модель, где от расстояния не зависит вес\n",
    "knn.weights = 'distance'\n",
    "for n_neighbors in list(range(2, 10)):\n",
    "    knn.n_neighbors = n_neighbors\n",
    "    means_distance.append(np.mean(cross_val_score(knn, X, y, scoring='accuracy', cv=sss)))"
   ]
  },
  {
   "cell_type": "code",
   "execution_count": 166,
   "metadata": {},
   "outputs": [
    {
     "data": {
      "text/plain": [
       "[0.99388888888888904,\n",
       " 0.98999999999999988,\n",
       " 0.99055555555555552,\n",
       " 0.98666666666666669,\n",
       " 0.98611111111111105,\n",
       " 0.98555555555555563,\n",
       " 0.98999999999999999,\n",
       " 0.98388888888888881]"
      ]
     },
     "execution_count": 166,
     "metadata": {},
     "output_type": "execute_result"
    }
   ],
   "source": [
    "means_distance"
   ]
  },
  {
   "cell_type": "code",
   "execution_count": 167,
   "metadata": {},
   "outputs": [
    {
     "data": {
      "text/plain": [
       "False"
      ]
     },
     "execution_count": 167,
     "metadata": {},
     "output_type": "execute_result"
    }
   ],
   "source": [
    "max(means_uniform) > max(means_distance) #чуть лучше оказалась модель, где учитывется расстоние"
   ]
  },
  {
   "cell_type": "code",
   "execution_count": 168,
   "metadata": {},
   "outputs": [],
   "source": [
    "knn.n_neighbors = list(range(2, 10))[means_distance.index(max(means_distance))]\n",
    "knn.weights = 'distance'"
   ]
  },
  {
   "cell_type": "code",
   "execution_count": 172,
   "metadata": {},
   "outputs": [],
   "source": [
    "models_accuracy[knn] = max(means_distance)"
   ]
  },
  {
   "cell_type": "code",
   "execution_count": 173,
   "metadata": {},
   "outputs": [
    {
     "data": {
      "text/plain": [
       "{KNeighborsClassifier(algorithm='auto', leaf_size=30, metric='minkowski',\n",
       "            metric_params=None, n_jobs=1, n_neighbors=2, p=2,\n",
       "            weights='distance'): 0.99388888888888904,\n",
       " LogisticRegression(C=0.73333333333333328, class_weight=None, dual=False,\n",
       "           fit_intercept=True, intercept_scaling=1, max_iter=100,\n",
       "           multi_class='multinomial', n_jobs=1, penalty='l2',\n",
       "           random_state=None, solver='lbfgs', tol=0.0001, verbose=0,\n",
       "           warm_start=False): 0.97166666666666668,\n",
       " DecisionTreeClassifier(class_weight=None, criterion='gini', max_depth=15,\n",
       "             max_features=None, max_leaf_nodes=None,\n",
       "             min_impurity_decrease=0.0, min_impurity_split=None,\n",
       "             min_samples_leaf=1, min_samples_split=2,\n",
       "             min_weight_fraction_leaf=0.0, presort=False, random_state=None,\n",
       "             splitter='best'): 0.86777777777777787,\n",
       " SVC(C=0.38311868495572932, cache_size=200, class_weight=None, coef0=0.0,\n",
       "   decision_function_shape='ovr', degree=3, gamma='auto', kernel='linear',\n",
       "   max_iter=-1, probability=False, random_state=None, shrinking=True,\n",
       "   tol=0.001, verbose=False): 0.98388888888888881}"
      ]
     },
     "execution_count": 173,
     "metadata": {},
     "output_type": "execute_result"
    }
   ],
   "source": [
    "models_accuracy"
   ]
  },
  {
   "cell_type": "markdown",
   "metadata": {},
   "source": [
    "## Решающие деревья показали очень низкую точнсть, попробуем использовать ансамбли."
   ]
  },
  {
   "cell_type": "code",
   "execution_count": 174,
   "metadata": {
    "collapsed": true
   },
   "outputs": [],
   "source": [
    "from sklearn.ensemble import RandomForestClassifier"
   ]
  },
  {
   "cell_type": "code",
   "execution_count": 197,
   "metadata": {
    "collapsed": true
   },
   "outputs": [],
   "source": [
    "rfc = RandomForestClassifier()"
   ]
  },
  {
   "cell_type": "code",
   "execution_count": 199,
   "metadata": {
    "collapsed": true
   },
   "outputs": [],
   "source": [
    "amoun_estimators = list(range(2, 100, 5))"
   ]
  },
  {
   "cell_type": "code",
   "execution_count": 200,
   "metadata": {},
   "outputs": [],
   "source": [
    "means = []\n",
    "for n_estimators in amoun_estimators:\n",
    "    rfc.n_estimators = n_estimators\n",
    "    means.append(np.mean(cross_val_score(rfc, X, y, scoring='accuracy', cv=sss)))"
   ]
  },
  {
   "cell_type": "code",
   "execution_count": 201,
   "metadata": {},
   "outputs": [
    {
     "data": {
      "text/plain": [
       "[0.78055555555555567,\n",
       " 0.92388888888888887,\n",
       " 0.95999999999999996,\n",
       " 0.96444444444444444,\n",
       " 0.96833333333333338,\n",
       " 0.97055555555555539,\n",
       " 0.9688888888888888,\n",
       " 0.9722222222222221,\n",
       " 0.97499999999999987,\n",
       " 0.97444444444444434,\n",
       " 0.97444444444444434,\n",
       " 0.97333333333333327,\n",
       " 0.96999999999999997,\n",
       " 0.97777777777777786,\n",
       " 0.9688888888888888,\n",
       " 0.97777777777777763,\n",
       " 0.97277777777777763,\n",
       " 0.97333333333333338,\n",
       " 0.97611111111111115,\n",
       " 0.98333333333333339]"
      ]
     },
     "execution_count": 201,
     "metadata": {},
     "output_type": "execute_result"
    }
   ],
   "source": [
    "means"
   ]
  },
  {
   "cell_type": "code",
   "execution_count": 202,
   "metadata": {
    "collapsed": true
   },
   "outputs": [],
   "source": [
    "rfc.n_estimators = amoun_estimators[means.index(max(means))]"
   ]
  },
  {
   "cell_type": "code",
   "execution_count": 203,
   "metadata": {
    "collapsed": true
   },
   "outputs": [],
   "source": [
    "models_accyracy[rfc] = max(means)"
   ]
  },
  {
   "cell_type": "code",
   "execution_count": 204,
   "metadata": {},
   "outputs": [
    {
     "data": {
      "text/plain": [
       "{KNeighborsClassifier(algorithm='auto', leaf_size=30, metric='minkowski',\n",
       "            metric_params=None, n_jobs=1, n_neighbors=2, p=2,\n",
       "            weights='distance'): 0.99388888888888904,\n",
       " LogisticRegression(C=0.73333333333333328, class_weight=None, dual=False,\n",
       "           fit_intercept=True, intercept_scaling=1, max_iter=100,\n",
       "           multi_class='multinomial', n_jobs=1, penalty='l2',\n",
       "           random_state=None, solver='lbfgs', tol=0.0001, verbose=0,\n",
       "           warm_start=False): 0.97166666666666668,\n",
       " DecisionTreeClassifier(class_weight=None, criterion='gini', max_depth=15,\n",
       "             max_features=None, max_leaf_nodes=None,\n",
       "             min_impurity_decrease=0.0, min_impurity_split=None,\n",
       "             min_samples_leaf=1, min_samples_split=2,\n",
       "             min_weight_fraction_leaf=0.0, presort=False, random_state=None,\n",
       "             splitter='best'): 0.86777777777777787,\n",
       " RandomForestClassifier(bootstrap=True, class_weight=None, criterion='gini',\n",
       "             max_depth=None, max_features='auto', max_leaf_nodes=None,\n",
       "             min_impurity_decrease=0.0, min_impurity_split=None,\n",
       "             min_samples_leaf=1, min_samples_split=2,\n",
       "             min_weight_fraction_leaf=0.0, n_estimators=97, n_jobs=1,\n",
       "             oob_score=False, random_state=None, verbose=0,\n",
       "             warm_start=False): 0.98333333333333339,\n",
       " SVC(C=0.38311868495572932, cache_size=200, class_weight=None, coef0=0.0,\n",
       "   decision_function_shape='ovr', degree=3, gamma='auto', kernel='linear',\n",
       "   max_iter=-1, probability=False, random_state=None, shrinking=True,\n",
       "   tol=0.001, verbose=False): 0.98388888888888881}"
      ]
     },
     "execution_count": 204,
     "metadata": {},
     "output_type": "execute_result"
    }
   ],
   "source": [
    "models_accyracy"
   ]
  },
  {
   "cell_type": "markdown",
   "metadata": {},
   "source": [
    "## Итоги. \n",
    "Самая худшая модель - DecisionTreeClassifier с точностью  = __0.877__, самая лучшая модель - KNeighborsClassifier с точностью = __0.994__. \n",
    "В KNeighborsClassifier используем следующие параметры: \n",
    "* количество соседей (__n_neighbors__) = 2\n",
    "* веса (__weights__) = 'distance', то есть дальность напрямую влияет на расчет в модели"
   ]
  }
 ],
 "metadata": {
  "anaconda-cloud": {},
  "kernelspec": {
   "display_name": "Python [default]",
   "language": "python",
   "name": "python3"
  },
  "language_info": {
   "codemirror_mode": {
    "name": "ipython",
    "version": 3
   },
   "file_extension": ".py",
   "mimetype": "text/x-python",
   "name": "python",
   "nbconvert_exporter": "python",
   "pygments_lexer": "ipython3",
   "version": "3.5.2"
  }
 },
 "nbformat": 4,
 "nbformat_minor": 2
}
